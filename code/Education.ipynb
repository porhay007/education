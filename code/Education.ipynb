{
 "cells": [
  {
   "cell_type": "markdown",
   "id": "1f1d8d48",
   "metadata": {},
   "source": [
    "# Introduction\n",
    "\n",
    "The purpose of this analysis is to investigate whether school performance, measured by average ACT scores, is influenced by socioeconomic factors. Specifically, we examine the relationships between ACT scores and variables such as community education level, household income, unemployment rate, family structure, and student poverty. Understanding these patterns can provide insight into how socioeconomic conditions affect educational outcomes."
   ]
  },
  {
   "cell_type": "markdown",
   "id": "6b994d16",
   "metadata": {},
   "source": [
    "### Data Sources:\n",
    "\n",
    "EdGap_data.xlsx (https://github.com/brian-fischer/DATA-5100/blob/main/EdGap_data.xlsx)\n",
    "\n",
    "school_information  school_informatiom_sch_029_1617_w_1a_11212017.csv (https://www.dropbox.com/scl/fi/fkafjk8902sq8ptxh94r2/school_informatiom_sch_029_1617_w_1a_11212017.csv?rlkey=gucrdz5f6e38bezz2y3yalxbw&e=1&dl=0\n",
    ")\n",
    "\n"
   ]
  },
  {
   "cell_type": "markdown",
   "id": "bc81fd4e",
   "metadata": {},
   "source": [
    "## Data loading and Cleaning\n",
    "\n",
    "We load the datasets, inspect them for structure and content, and clean them by removing duplicates, handling missing values, and filtering out-of-range scores and income values. This ensures our analysis is based on accurate and complete data."
   ]
  },
  {
   "cell_type": "code",
   "execution_count": 32,
   "id": "8d0a864b",
   "metadata": {},
   "outputs": [],
   "source": [
    "import numpy as np\n",
    "import pandas as pd\n",
    "import matplotlib.pyplot as plt\n",
    "import seaborn as sns\n",
    "sns.set(style=\"whitegrid\", palette=\"muted\", font_scale=1.1)\n",
    "\n",
    "from sklearn.preprocessing import StandardScaler\n",
    "import plotly.express as px\n",
    "import statsmodels.api as sm\n"
   ]
  },
  {
   "cell_type": "markdown",
   "id": "7f9f9f53",
   "metadata": {},
   "source": [
    "#### Loading dataset"
   ]
  },
  {
   "cell_type": "code",
   "execution_count": 33,
   "id": "e7796eec",
   "metadata": {},
   "outputs": [
    {
     "name": "stderr",
     "output_type": "stream",
     "text": [
      "/opt/anaconda3/lib/python3.13/site-packages/openpyxl/worksheet/_read_only.py:85: UserWarning:\n",
      "\n",
      "Unknown extension is not supported and will be removed\n",
      "\n",
      "/var/folders/wx/0m6_v4n9285892l822ksy8740000gn/T/ipykernel_61675/3142473877.py:3: DtypeWarning:\n",
      "\n",
      "Columns (6,9,14,15,18,19,21,22,25,26,29,31,35,39,41,42) have mixed types. Specify dtype option on import or set low_memory=False.\n",
      "\n"
     ]
    },
    {
     "name": "stdout",
     "output_type": "stream",
     "text": [
      "<class 'pandas.core.frame.DataFrame'>\n",
      "RangeIndex: 7986 entries, 0 to 7985\n",
      "Data columns (total 7 columns):\n",
      " #   Column                                           Non-Null Count  Dtype  \n",
      "---  ------                                           --------------  -----  \n",
      " 0   NCESSCH School ID                                7986 non-null   object \n",
      " 1   CT Unemployment Rate                             7972 non-null   float64\n",
      " 2   CT Pct Adults with College Degree                7973 non-null   float64\n",
      " 3   CT Pct Childre In Married Couple Family          7961 non-null   float64\n",
      " 4   CT Median Household Income                       7966 non-null   float64\n",
      " 5   School ACT average (or equivalent if SAT score)  7986 non-null   float64\n",
      " 6   School Pct Free and Reduced Lunch                7986 non-null   float64\n",
      "dtypes: float64(6), object(1)\n",
      "memory usage: 436.9+ KB\n",
      "<class 'pandas.core.frame.DataFrame'>\n",
      "RangeIndex: 102183 entries, 0 to 102182\n",
      "Data columns (total 65 columns):\n",
      " #   Column               Non-Null Count   Dtype  \n",
      "---  ------               --------------   -----  \n",
      " 0   SCHOOL_YEAR          102183 non-null  object \n",
      " 1   FIPST                102183 non-null  int64  \n",
      " 2   STATENAME            102183 non-null  object \n",
      " 3   ST                   102183 non-null  object \n",
      " 4   SCH_NAME             102183 non-null  object \n",
      " 5   LEA_NAME             102183 non-null  object \n",
      " 6   STATE_AGENCY_NO      102183 non-null  object \n",
      " 7   UNION                2533 non-null    float64\n",
      " 8   ST_LEAID             102183 non-null  object \n",
      " 9   LEAID                102183 non-null  object \n",
      " 10  ST_SCHID             102183 non-null  object \n",
      " 11  NCESSCH              102181 non-null  float64\n",
      " 12  SCHID                102181 non-null  float64\n",
      " 13  MSTREET1             102181 non-null  object \n",
      " 14  MSTREET2             1825 non-null    object \n",
      " 15  MSTREET3             28 non-null      object \n",
      " 16  MCITY                102183 non-null  object \n",
      " 17  MSTATE               102183 non-null  object \n",
      " 18  MZIP                 102183 non-null  object \n",
      " 19  MZIP4                60419 non-null   object \n",
      " 20  LSTREET1             102183 non-null  object \n",
      " 21  LSTREET2             582 non-null     object \n",
      " 22  LSTREET3             13 non-null      object \n",
      " 23  LCITY                102183 non-null  object \n",
      " 24  LSTATE               102183 non-null  object \n",
      " 25  LZIP                 102183 non-null  object \n",
      " 26  LZIP4                59145 non-null   object \n",
      " 27  PHONE                102183 non-null  object \n",
      " 28  WEBSITE              51983 non-null   object \n",
      " 29  SY_STATUS            102181 non-null  object \n",
      " 30  SY_STATUS_TEXT       102181 non-null  object \n",
      " 31  UPDATED_STATUS       102181 non-null  object \n",
      " 32  UPDATED_STATUS_TEXT  102181 non-null  object \n",
      " 33  EFFECTIVE_DATE       102181 non-null  object \n",
      " 34  SCH_TYPE_TEXT        102181 non-null  object \n",
      " 35  SCH_TYPE             102181 non-null  object \n",
      " 36  RECON_STATUS         102181 non-null  object \n",
      " 37  OUT_OF_STATE_FLAG    102179 non-null  object \n",
      " 38  CHARTER_TEXT         102179 non-null  object \n",
      " 39  CHARTAUTH1           6687 non-null    object \n",
      " 40  CHARTAUTHN1          6687 non-null    object \n",
      " 41  CHARTAUTH2           116 non-null     object \n",
      " 42  CHARTAUTHN2          116 non-null     object \n",
      " 43  NOGRADES             102179 non-null  object \n",
      " 44  G_PK_OFFERED         102179 non-null  object \n",
      " 45  G_KG_OFFERED         102179 non-null  object \n",
      " 46  G_1_OFFERED          102179 non-null  object \n",
      " 47  G_2_OFFERED          102179 non-null  object \n",
      " 48  G_3_OFFERED          102179 non-null  object \n",
      " 49  G_4_OFFERED          102179 non-null  object \n",
      " 50  G_5_OFFERED          102179 non-null  object \n",
      " 51  G_6_OFFERED          102179 non-null  object \n",
      " 52  G_7_OFFERED          102179 non-null  object \n",
      " 53  G_8_OFFERED          102179 non-null  object \n",
      " 54  G_9_OFFERED          102179 non-null  object \n",
      " 55  G_10_OFFERED         102179 non-null  object \n",
      " 56  G_11_OFFERED         102179 non-null  object \n",
      " 57  G_12_OFFERED         102179 non-null  object \n",
      " 58  G_13_OFFERED         102179 non-null  object \n",
      " 59  G_UG_OFFERED         102179 non-null  object \n",
      " 60  G_AE_OFFERED         102179 non-null  object \n",
      " 61  GSLO                 102179 non-null  object \n",
      " 62  GSHI                 102179 non-null  object \n",
      " 63  LEVEL                102179 non-null  object \n",
      " 64  IGOFFERED            102179 non-null  object \n",
      "dtypes: float64(3), int64(1), object(61)\n",
      "memory usage: 50.7+ MB\n"
     ]
    }
   ],
   "source": [
    "# Load datasets\n",
    "edgap = pd.read_excel('../data/EdGap_data.xlsx', dtype={'NCESSCH School ID': str})\n",
    "school_information = pd.read_csv('../data/ccd_sch_029_1617_w_1a_11212017.csv', encoding='unicode_escape')\n",
    "\n",
    "# Inspect first few rows\n",
    "edgap.head(3)\n",
    "school_information.head(3)\n",
    "\n",
    "# Inspect info\n",
    "edgap.info()\n",
    "school_information.info()\n"
   ]
  },
  {
   "cell_type": "markdown",
   "id": "d9d32a5c",
   "metadata": {},
   "source": [
    "#### Data Cleaning\n",
    "\n",
    "We remove duplicates, handle missing values, and filter out-of-range values for ACT scores and household income."
   ]
  },
  {
   "cell_type": "code",
   "execution_count": 34,
   "id": "db037b62",
   "metadata": {},
   "outputs": [
    {
     "name": "stdout",
     "output_type": "stream",
     "text": [
      "EdGap shape after cleaning: (7958, 7)\n",
      "School Information shape after cleaning: (98614, 65)\n"
     ]
    }
   ],
   "source": [
    "# Remove duplicates\n",
    "edgap = edgap.drop_duplicates()\n",
    "school_information = school_information.drop_duplicates(subset=['NCESSCH'])\n",
    "\n",
    "# Filter ACT scores and income\n",
    "edgap = edgap[(edgap['School ACT average (or equivalent if SAT score)'] >= 0) &\n",
    "              (edgap['School ACT average (or equivalent if SAT score)'] <= 36)]\n",
    "edgap = edgap[(edgap['CT Median Household Income'] >= 0)]\n",
    "\n",
    "# Keep meaningful school types\n",
    "school_information = school_information[school_information['SCH_TYPE_TEXT'].isin([\n",
    "    'Regular School', 'Career And Technical School', 'Alternative School'\n",
    "])]\n",
    "\n",
    "# Remove rows missing school IDs\n",
    "school_information = school_information[school_information['NCESSCH'].notna()]\n",
    "\n",
    "# Drop missing values in key columns\n",
    "edgap = edgap.dropna(subset=[\n",
    "    'CT Unemployment Rate',\n",
    "    'CT Pct Adults with College Degree',\n",
    "    'CT Pct Childre In Married Couple Family',\n",
    "    'CT Median Household Income',\n",
    "    'School ACT average (or equivalent if SAT score)',\n",
    "    'School Pct Free and Reduced Lunch'\n",
    "])\n",
    "\n",
    "school_information = school_information.dropna(subset=['NCESSCH', 'SCH_NAME'])\n",
    "\n",
    "# Reset indices\n",
    "edgap = edgap.reset_index(drop=True)\n",
    "school_information = school_information.reset_index(drop=True)\n",
    "\n",
    "print(\"EdGap shape after cleaning:\", edgap.shape)\n",
    "print(\"School Information shape after cleaning:\", school_information.shape)\n"
   ]
  },
  {
   "cell_type": "markdown",
   "id": "2cb0a46f",
   "metadata": {},
   "source": [
    "## Merge Dataset and Preparation\n",
    "\n",
    "We merge the two datasets and create derived variables for easier interpretation."
   ]
  },
  {
   "cell_type": "code",
   "execution_count": null,
   "id": "e4eeb065",
   "metadata": {},
   "outputs": [
    {
     "data": {
      "application/vnd.microsoft.datawrangler.viewer.v0+json": {
       "columns": [
        {
         "name": "index",
         "rawType": "int64",
         "type": "integer"
        },
        {
         "name": "id",
         "rawType": "object",
         "type": "string"
        },
        {
         "name": "rate_unemployment",
         "rawType": "float64",
         "type": "float"
        },
        {
         "name": "percent_college",
         "rawType": "float64",
         "type": "float"
        },
        {
         "name": "percent_married",
         "rawType": "float64",
         "type": "float"
        },
        {
         "name": "median_income",
         "rawType": "float64",
         "type": "float"
        },
        {
         "name": "act_average",
         "rawType": "float64",
         "type": "float"
        },
        {
         "name": "percent_lunch",
         "rawType": "float64",
         "type": "float"
        },
        {
         "name": "school_year",
         "rawType": "object",
         "type": "string"
        },
        {
         "name": "state",
         "rawType": "object",
         "type": "string"
        },
        {
         "name": "zip_code",
         "rawType": "object",
         "type": "unknown"
        },
        {
         "name": "school_type",
         "rawType": "object",
         "type": "string"
        },
        {
         "name": "school_level",
         "rawType": "object",
         "type": "string"
        },
        {
         "name": "charter",
         "rawType": "object",
         "type": "string"
        },
        {
         "name": "income_k",
         "rawType": "float64",
         "type": "float"
        },
        {
         "name": "act_vs_median",
         "rawType": "float64",
         "type": "float"
        }
       ],
       "ref": "3b72196f-1969-48ef-8f08-812db5cfd958",
       "rows": [
        [
         "0",
         "100001600143",
         "0.117962466487936",
         "0.445283018867925",
         "0.346494762288477",
         "42820.0",
         "20.4334554334554",
         "0.0669014084507042",
         "2016-2017",
         "DE",
         "19804",
         "Regular School",
         "High",
         "Yes",
         "42.82",
         "0.03345543345540136"
        ],
        [
         "1",
         "100008000024",
         "0.0639844886088221",
         "0.66276459268762",
         "0.767619047619048",
         "89320.0",
         "19.4981684981685",
         "0.112412177985948",
         "2016-2017",
         "DE",
         "19709",
         "Regular School",
         "High",
         "No",
         "89.32",
         "-0.9018315018314986"
        ],
        [
         "2",
         "100008000225",
         "0.0564599930723935",
         "0.701864406779661",
         "0.713090418353576",
         "84140.0",
         "19.5543345543346",
         "0.096816114359974",
         "2016-2017",
         "DE",
         "19709",
         "Regular School",
         "High",
         "No",
         "84.14",
         "-0.8456654456654"
        ],
        [
         "3",
         "100017000029",
         "0.0447385003150599",
         "0.69206204379562",
         "0.64128256513026",
         "56500.0",
         "17.7374847374847",
         "0.296960249415433",
         "2016-2017",
         "DE",
         "19958",
         "Regular School",
         "High",
         "No",
         "56.5",
         "-2.6625152625152992"
        ],
        [
         "4",
         "100018000040",
         "0.0770135214579659",
         "0.640060240963855",
         "0.834401709401709",
         "54015.0",
         "18.2454212454212",
         "0.262641138929799",
         "2016-2017",
         "DE",
         "19934",
         "Regular School",
         "High",
         "No",
         "54.015",
         "-2.1545787545788"
        ]
       ],
       "shape": {
        "columns": 15,
        "rows": 5
       }
      },
      "text/html": [
       "<div>\n",
       "<style scoped>\n",
       "    .dataframe tbody tr th:only-of-type {\n",
       "        vertical-align: middle;\n",
       "    }\n",
       "\n",
       "    .dataframe tbody tr th {\n",
       "        vertical-align: top;\n",
       "    }\n",
       "\n",
       "    .dataframe thead th {\n",
       "        text-align: right;\n",
       "    }\n",
       "</style>\n",
       "<table border=\"1\" class=\"dataframe\">\n",
       "  <thead>\n",
       "    <tr style=\"text-align: right;\">\n",
       "      <th></th>\n",
       "      <th>id</th>\n",
       "      <th>rate_unemployment</th>\n",
       "      <th>percent_college</th>\n",
       "      <th>percent_married</th>\n",
       "      <th>median_income</th>\n",
       "      <th>act_average</th>\n",
       "      <th>percent_lunch</th>\n",
       "      <th>school_year</th>\n",
       "      <th>state</th>\n",
       "      <th>zip_code</th>\n",
       "      <th>school_type</th>\n",
       "      <th>school_level</th>\n",
       "      <th>charter</th>\n",
       "      <th>income_k</th>\n",
       "      <th>act_vs_median</th>\n",
       "    </tr>\n",
       "  </thead>\n",
       "  <tbody>\n",
       "    <tr>\n",
       "      <th>0</th>\n",
       "      <td>100001600143</td>\n",
       "      <td>0.117962</td>\n",
       "      <td>0.445283</td>\n",
       "      <td>0.346495</td>\n",
       "      <td>42820.0</td>\n",
       "      <td>20.433455</td>\n",
       "      <td>0.066901</td>\n",
       "      <td>2016-2017</td>\n",
       "      <td>DE</td>\n",
       "      <td>19804</td>\n",
       "      <td>Regular School</td>\n",
       "      <td>High</td>\n",
       "      <td>Yes</td>\n",
       "      <td>42.820</td>\n",
       "      <td>0.033455</td>\n",
       "    </tr>\n",
       "    <tr>\n",
       "      <th>1</th>\n",
       "      <td>100008000024</td>\n",
       "      <td>0.063984</td>\n",
       "      <td>0.662765</td>\n",
       "      <td>0.767619</td>\n",
       "      <td>89320.0</td>\n",
       "      <td>19.498168</td>\n",
       "      <td>0.112412</td>\n",
       "      <td>2016-2017</td>\n",
       "      <td>DE</td>\n",
       "      <td>19709</td>\n",
       "      <td>Regular School</td>\n",
       "      <td>High</td>\n",
       "      <td>No</td>\n",
       "      <td>89.320</td>\n",
       "      <td>-0.901832</td>\n",
       "    </tr>\n",
       "    <tr>\n",
       "      <th>2</th>\n",
       "      <td>100008000225</td>\n",
       "      <td>0.056460</td>\n",
       "      <td>0.701864</td>\n",
       "      <td>0.713090</td>\n",
       "      <td>84140.0</td>\n",
       "      <td>19.554335</td>\n",
       "      <td>0.096816</td>\n",
       "      <td>2016-2017</td>\n",
       "      <td>DE</td>\n",
       "      <td>19709</td>\n",
       "      <td>Regular School</td>\n",
       "      <td>High</td>\n",
       "      <td>No</td>\n",
       "      <td>84.140</td>\n",
       "      <td>-0.845665</td>\n",
       "    </tr>\n",
       "    <tr>\n",
       "      <th>3</th>\n",
       "      <td>100017000029</td>\n",
       "      <td>0.044739</td>\n",
       "      <td>0.692062</td>\n",
       "      <td>0.641283</td>\n",
       "      <td>56500.0</td>\n",
       "      <td>17.737485</td>\n",
       "      <td>0.296960</td>\n",
       "      <td>2016-2017</td>\n",
       "      <td>DE</td>\n",
       "      <td>19958</td>\n",
       "      <td>Regular School</td>\n",
       "      <td>High</td>\n",
       "      <td>No</td>\n",
       "      <td>56.500</td>\n",
       "      <td>-2.662515</td>\n",
       "    </tr>\n",
       "    <tr>\n",
       "      <th>4</th>\n",
       "      <td>100018000040</td>\n",
       "      <td>0.077014</td>\n",
       "      <td>0.640060</td>\n",
       "      <td>0.834402</td>\n",
       "      <td>54015.0</td>\n",
       "      <td>18.245421</td>\n",
       "      <td>0.262641</td>\n",
       "      <td>2016-2017</td>\n",
       "      <td>DE</td>\n",
       "      <td>19934</td>\n",
       "      <td>Regular School</td>\n",
       "      <td>High</td>\n",
       "      <td>No</td>\n",
       "      <td>54.015</td>\n",
       "      <td>-2.154579</td>\n",
       "    </tr>\n",
       "  </tbody>\n",
       "</table>\n",
       "</div>"
      ],
      "text/plain": [
       "             id  rate_unemployment  percent_college  percent_married  \\\n",
       "0  100001600143           0.117962         0.445283         0.346495   \n",
       "1  100008000024           0.063984         0.662765         0.767619   \n",
       "2  100008000225           0.056460         0.701864         0.713090   \n",
       "3  100017000029           0.044739         0.692062         0.641283   \n",
       "4  100018000040           0.077014         0.640060         0.834402   \n",
       "\n",
       "   median_income  act_average  percent_lunch school_year state zip_code  \\\n",
       "0        42820.0    20.433455       0.066901   2016-2017    DE    19804   \n",
       "1        89320.0    19.498168       0.112412   2016-2017    DE    19709   \n",
       "2        84140.0    19.554335       0.096816   2016-2017    DE    19709   \n",
       "3        56500.0    17.737485       0.296960   2016-2017    DE    19958   \n",
       "4        54015.0    18.245421       0.262641   2016-2017    DE    19934   \n",
       "\n",
       "      school_type school_level charter  income_k  act_vs_median  \n",
       "0  Regular School         High     Yes    42.820       0.033455  \n",
       "1  Regular School         High      No    89.320      -0.901832  \n",
       "2  Regular School         High      No    84.140      -0.845665  \n",
       "3  Regular School         High      No    56.500      -2.662515  \n",
       "4  Regular School         High      No    54.015      -2.154579  "
      ]
     },
     "execution_count": 35,
     "metadata": {},
     "output_type": "execute_result"
    }
   ],
   "source": [
    "# Keep relevant columns from school_information\n",
    "school_information = school_information[\n",
    "    ['SCHOOL_YEAR', 'NCESSCH', 'LSTATE', 'LZIP', 'SCH_TYPE_TEXT', 'LEVEL', 'CHARTER_TEXT']\n",
    "]\n",
    "\n",
    "# Rename columns for clarity\n",
    "edgap = edgap.rename(columns={\n",
    "    'NCESSCH School ID': 'id',\n",
    "    'CT Pct Adults with College Degree': 'percent_college',\n",
    "    'CT Unemployment Rate': 'rate_unemployment',\n",
    "    'CT Pct Childre In Married Couple Family': 'percent_married',\n",
    "    'CT Median Household Income': 'median_income',\n",
    "    'School ACT average (or equivalent if SAT score)': 'act_average',\n",
    "    'School Pct Free and Reduced Lunch': 'percent_lunch'\n",
    "})\n",
    "\n",
    "school_information = school_information.rename(columns={\n",
    "    'SCHOOL_YEAR': 'school_year',\n",
    "    'NCESSCH': 'id',\n",
    "    'LSTATE': 'state',\n",
    "    'LZIP': 'zip_code',\n",
    "    'SCH_TYPE_TEXT': 'school_type',\n",
    "    'LEVEL': 'school_level',\n",
    "    'CHARTER_TEXT': 'charter'\n",
    "})\n",
    "\n",
    "# Convert IDs to string and remove '.0' in order to merge dataset\n",
    "edgap['id'] = edgap['id'].astype(str).str.replace(r'\\.0$', '', regex=True)\n",
    "school_information['id'] = school_information['id'].astype(str).str.replace(r'\\.0$', '', regex=True)\n",
    "\n",
    "# Merge datasets\n",
    "df = edgap.merge(school_information, how='left', on='id')\n",
    "\n",
    "# Derived variables\n",
    "df['income_k'] = df['median_income'] / 1000\n",
    "median_act = df['act_average'].median()\n",
    "df['act_vs_median'] = df['act_average'] - median_act\n",
    "\n",
    "df.head()\n"
   ]
  },
  {
   "cell_type": "code",
   "execution_count": 40,
   "id": "86bacbf8",
   "metadata": {},
   "outputs": [
    {
     "data": {
      "application/vnd.microsoft.datawrangler.viewer.v0+json": {
       "columns": [
        {
         "name": "index",
         "rawType": "int64",
         "type": "integer"
        },
        {
         "name": "id",
         "rawType": "object",
         "type": "string"
        },
        {
         "name": "rate_unemployment",
         "rawType": "float64",
         "type": "float"
        },
        {
         "name": "percent_college",
         "rawType": "float64",
         "type": "float"
        },
        {
         "name": "percent_married",
         "rawType": "float64",
         "type": "float"
        },
        {
         "name": "median_income",
         "rawType": "float64",
         "type": "float"
        },
        {
         "name": "act_average",
         "rawType": "float64",
         "type": "float"
        },
        {
         "name": "percent_lunch",
         "rawType": "float64",
         "type": "float"
        },
        {
         "name": "school_year",
         "rawType": "object",
         "type": "string"
        },
        {
         "name": "state",
         "rawType": "object",
         "type": "string"
        },
        {
         "name": "zip_code",
         "rawType": "object",
         "type": "unknown"
        },
        {
         "name": "school_type",
         "rawType": "object",
         "type": "string"
        },
        {
         "name": "school_level",
         "rawType": "object",
         "type": "string"
        },
        {
         "name": "charter",
         "rawType": "object",
         "type": "string"
        },
        {
         "name": "income_k",
         "rawType": "float64",
         "type": "float"
        },
        {
         "name": "act_vs_median",
         "rawType": "float64",
         "type": "float"
        }
       ],
       "ref": "1a3088ef-acb7-4c7f-9d8a-9b09fbecf2ed",
       "rows": [
        [
         "0",
         "100001600143",
         "0.117962466487936",
         "0.445283018867925",
         "0.346494762288477",
         "42820.0",
         "20.4334554334554",
         "0.0669014084507042",
         "2016-2017",
         "DE",
         "19804",
         "Regular School",
         "High",
         "Yes",
         "42.82",
         "0.03345543345540136"
        ],
        [
         "1",
         "100008000024",
         "0.0639844886088221",
         "0.66276459268762",
         "0.767619047619048",
         "89320.0",
         "19.4981684981685",
         "0.112412177985948",
         "2016-2017",
         "DE",
         "19709",
         "Regular School",
         "High",
         "No",
         "89.32",
         "-0.9018315018314986"
        ],
        [
         "2",
         "100008000225",
         "0.0564599930723935",
         "0.701864406779661",
         "0.713090418353576",
         "84140.0",
         "19.5543345543346",
         "0.096816114359974",
         "2016-2017",
         "DE",
         "19709",
         "Regular School",
         "High",
         "No",
         "84.14",
         "-0.8456654456654"
        ],
        [
         "3",
         "100017000029",
         "0.0447385003150599",
         "0.69206204379562",
         "0.64128256513026",
         "56500.0",
         "17.7374847374847",
         "0.296960249415433",
         "2016-2017",
         "DE",
         "19958",
         "Regular School",
         "High",
         "No",
         "56.5",
         "-2.6625152625152992"
        ],
        [
         "4",
         "100018000040",
         "0.0770135214579659",
         "0.640060240963855",
         "0.834401709401709",
         "54015.0",
         "18.2454212454212",
         "0.262641138929799",
         "2016-2017",
         "DE",
         "19934",
         "Regular School",
         "High",
         "No",
         "54.015",
         "-2.1545787545788"
        ]
       ],
       "shape": {
        "columns": 15,
        "rows": 5
       }
      },
      "text/html": [
       "<div>\n",
       "<style scoped>\n",
       "    .dataframe tbody tr th:only-of-type {\n",
       "        vertical-align: middle;\n",
       "    }\n",
       "\n",
       "    .dataframe tbody tr th {\n",
       "        vertical-align: top;\n",
       "    }\n",
       "\n",
       "    .dataframe thead th {\n",
       "        text-align: right;\n",
       "    }\n",
       "</style>\n",
       "<table border=\"1\" class=\"dataframe\">\n",
       "  <thead>\n",
       "    <tr style=\"text-align: right;\">\n",
       "      <th></th>\n",
       "      <th>id</th>\n",
       "      <th>rate_unemployment</th>\n",
       "      <th>percent_college</th>\n",
       "      <th>percent_married</th>\n",
       "      <th>median_income</th>\n",
       "      <th>act_average</th>\n",
       "      <th>percent_lunch</th>\n",
       "      <th>school_year</th>\n",
       "      <th>state</th>\n",
       "      <th>zip_code</th>\n",
       "      <th>school_type</th>\n",
       "      <th>school_level</th>\n",
       "      <th>charter</th>\n",
       "      <th>income_k</th>\n",
       "      <th>act_vs_median</th>\n",
       "    </tr>\n",
       "  </thead>\n",
       "  <tbody>\n",
       "    <tr>\n",
       "      <th>0</th>\n",
       "      <td>100001600143</td>\n",
       "      <td>0.117962</td>\n",
       "      <td>0.445283</td>\n",
       "      <td>0.346495</td>\n",
       "      <td>42820.0</td>\n",
       "      <td>20.433455</td>\n",
       "      <td>0.066901</td>\n",
       "      <td>2016-2017</td>\n",
       "      <td>DE</td>\n",
       "      <td>19804</td>\n",
       "      <td>Regular School</td>\n",
       "      <td>High</td>\n",
       "      <td>Yes</td>\n",
       "      <td>42.820</td>\n",
       "      <td>0.033455</td>\n",
       "    </tr>\n",
       "    <tr>\n",
       "      <th>1</th>\n",
       "      <td>100008000024</td>\n",
       "      <td>0.063984</td>\n",
       "      <td>0.662765</td>\n",
       "      <td>0.767619</td>\n",
       "      <td>89320.0</td>\n",
       "      <td>19.498168</td>\n",
       "      <td>0.112412</td>\n",
       "      <td>2016-2017</td>\n",
       "      <td>DE</td>\n",
       "      <td>19709</td>\n",
       "      <td>Regular School</td>\n",
       "      <td>High</td>\n",
       "      <td>No</td>\n",
       "      <td>89.320</td>\n",
       "      <td>-0.901832</td>\n",
       "    </tr>\n",
       "    <tr>\n",
       "      <th>2</th>\n",
       "      <td>100008000225</td>\n",
       "      <td>0.056460</td>\n",
       "      <td>0.701864</td>\n",
       "      <td>0.713090</td>\n",
       "      <td>84140.0</td>\n",
       "      <td>19.554335</td>\n",
       "      <td>0.096816</td>\n",
       "      <td>2016-2017</td>\n",
       "      <td>DE</td>\n",
       "      <td>19709</td>\n",
       "      <td>Regular School</td>\n",
       "      <td>High</td>\n",
       "      <td>No</td>\n",
       "      <td>84.140</td>\n",
       "      <td>-0.845665</td>\n",
       "    </tr>\n",
       "    <tr>\n",
       "      <th>3</th>\n",
       "      <td>100017000029</td>\n",
       "      <td>0.044739</td>\n",
       "      <td>0.692062</td>\n",
       "      <td>0.641283</td>\n",
       "      <td>56500.0</td>\n",
       "      <td>17.737485</td>\n",
       "      <td>0.296960</td>\n",
       "      <td>2016-2017</td>\n",
       "      <td>DE</td>\n",
       "      <td>19958</td>\n",
       "      <td>Regular School</td>\n",
       "      <td>High</td>\n",
       "      <td>No</td>\n",
       "      <td>56.500</td>\n",
       "      <td>-2.662515</td>\n",
       "    </tr>\n",
       "    <tr>\n",
       "      <th>4</th>\n",
       "      <td>100018000040</td>\n",
       "      <td>0.077014</td>\n",
       "      <td>0.640060</td>\n",
       "      <td>0.834402</td>\n",
       "      <td>54015.0</td>\n",
       "      <td>18.245421</td>\n",
       "      <td>0.262641</td>\n",
       "      <td>2016-2017</td>\n",
       "      <td>DE</td>\n",
       "      <td>19934</td>\n",
       "      <td>Regular School</td>\n",
       "      <td>High</td>\n",
       "      <td>No</td>\n",
       "      <td>54.015</td>\n",
       "      <td>-2.154579</td>\n",
       "    </tr>\n",
       "  </tbody>\n",
       "</table>\n",
       "</div>"
      ],
      "text/plain": [
       "             id  rate_unemployment  percent_college  percent_married  \\\n",
       "0  100001600143           0.117962         0.445283         0.346495   \n",
       "1  100008000024           0.063984         0.662765         0.767619   \n",
       "2  100008000225           0.056460         0.701864         0.713090   \n",
       "3  100017000029           0.044739         0.692062         0.641283   \n",
       "4  100018000040           0.077014         0.640060         0.834402   \n",
       "\n",
       "   median_income  act_average  percent_lunch school_year state zip_code  \\\n",
       "0        42820.0    20.433455       0.066901   2016-2017    DE    19804   \n",
       "1        89320.0    19.498168       0.112412   2016-2017    DE    19709   \n",
       "2        84140.0    19.554335       0.096816   2016-2017    DE    19709   \n",
       "3        56500.0    17.737485       0.296960   2016-2017    DE    19958   \n",
       "4        54015.0    18.245421       0.262641   2016-2017    DE    19934   \n",
       "\n",
       "      school_type school_level charter  income_k  act_vs_median  \n",
       "0  Regular School         High     Yes    42.820       0.033455  \n",
       "1  Regular School         High      No    89.320      -0.901832  \n",
       "2  Regular School         High      No    84.140      -0.845665  \n",
       "3  Regular School         High      No    56.500      -2.662515  \n",
       "4  Regular School         High      No    54.015      -2.154579  "
      ]
     },
     "execution_count": 40,
     "metadata": {},
     "output_type": "execute_result"
    }
   ],
   "source": [
    "# Income in thousands (easier to interpret)\n",
    "df['income_k'] = df['median_income'] / 1000\n",
    "\n",
    "# ACT score difference from median\n",
    "median_act = df['act_average'].median()\n",
    "df['act_vs_median'] = df['act_average'] - median_act\n",
    "\n",
    "df.head()"
   ]
  },
  {
   "cell_type": "markdown",
   "id": "13a21ae0",
   "metadata": {},
   "source": [
    "### Export Cleaned Data"
   ]
  },
  {
   "cell_type": "code",
   "execution_count": 23,
   "id": "32e73e59",
   "metadata": {},
   "outputs": [
    {
     "name": "stdout",
     "output_type": "stream",
     "text": [
      "Final data shape: (7958, 15)\n"
     ]
    }
   ],
   "source": [
    "# Define file name and directory\n",
    "output_file = \"../data/cleaned_education_data.csv\"\n",
    "\n",
    "# Export to CSV \n",
    "df.to_csv(output_file, index=False)\n",
    "\n",
    "print(f\"Final data shape: {df.shape}\")\n"
   ]
  },
  {
   "cell_type": "markdown",
   "id": "16b29523",
   "metadata": {},
   "source": [
    "## Exploratory Data Analysis\n",
    "\n",
    "+ Median Household Income VS ACT Scores\n",
    "\n"
   ]
  },
  {
   "cell_type": "code",
   "execution_count": 24,
   "id": "421f6bdf",
   "metadata": {},
   "outputs": [
    {
     "data": {
      "image/png": "[encoded data removed]",
      "text/plain": [
       "<Figure size 800x600 with 1 Axes>"
      ]
     },
     "metadata": {},
     "output_type": "display_data"
    }
   ],
   "source": [
    "#Median Household Income vs. ACT Average:\n",
    "plt.figure(figsize=(8,6))\n",
    "\n",
    "sns.regplot(x='median_income', y='act_average', data=df, scatter_kws={'alpha':.5, 'color': 'green'}, color= 'black')\n",
    "plt.title('Median Household Income vs ACT Average')\n",
    "plt.xlabel('Median Household Income', fontsize = 16)\n",
    "plt.ylabel('ACT Average', fontsize = 16)\n",
    "plt.show()\n",
    "\n"
   ]
  },
  {
   "cell_type": "markdown",
   "id": "25789d81",
   "metadata": {},
   "source": [
    "The plot shows a positive correlation between median household income and ACT scores: schools in wealthier areas tend to have higher ACT averages. Most schools fall in the $25,000–$125,000 income range with ACT scores between 17.5 and 27.5. While the trend is clear, scores vary at all income levels, indicating that income is not the only factor influencing performance."
   ]
  },
  {
   "cell_type": "markdown",
   "id": "e809fa62",
   "metadata": {},
   "source": [
    "+ Average ACT Score by State"
   ]
  },
  {
   "cell_type": "code",
   "execution_count": 41,
   "id": "37d0a8a0",
   "metadata": {},
   "outputs": [
    {
     "data": {
      "application/vnd.plotly.v1+json": {
       "config": {
        "plotlyServerURL": "https://plot.ly"
       },
       "data": [
        {
         "coloraxis": "coloraxis",
         "geo": "geo",
         "hovertemplate": "state=%{location}<br>ACT Average=%{z}<extra></extra>",
         "locationmode": "USA-states",
         "locations": [
          "DE",
          "FL",
          "GA",
          "IL",
          "IN",
          "KY",
          "LA",
          "MA",
          "MI",
          "MO",
          "NC",
          "NJ",
          "NY",
          "OH",
          "PA",
          "TN",
          "TX",
          "WA",
          "WI",
          "WY"
         ],
         "name": "",
         "type": "choropleth",
         "z": [
          17.37968253968254,
          20.319196603600272,
          19.502210872968053,
          19.764285714285712,
          20.64163790100389,
          19.196296296296296,
          19.077366255144035,
          21.679802955665025,
          19.49277108433735,
          20.764183381088824,
          20.402343383112616,
          20.785597751409718,
          17.765919362778003,
          21.069364161849713,
          20.622303622303622,
          18.917532467532467,
          20.228950394925498,
          21.392321557156727,
          21.894300518134717,
          19.989473684210527
         ]
        }
       ],
       "layout": {
        "coloraxis": {
         "colorbar": {
          "title": {
           "text": "ACT Average"
          }
         },
         "colorscale": [
          [
           0,
           "#440154"
          ],
          [
           0.1111111111111111,
           "#482878"
          ],
          [
           0.2222222222222222,
           "#3e4989"
          ],
          [
           0.3333333333333333,
           "#31688e"
          ],
          [
           0.4444444444444444,
           "#26828e"
          ],
          [
           0.5555555555555556,
           "#1f9e89"
          ],
          [
           0.6666666666666666,
           "#35b779"
          ],
          [
           0.7777777777777778,
           "#6ece58"
          ],
          [
           0.8888888888888888,
           "#b5de2b"
          ],
          [
           1,
           "#fde725"
          ]
         ]
        },
        "geo": {
         "center": {},
         "domain": {
          "x": [
           0,
           1
          ],
          "y": [
           0,
           1
          ]
         },
         "scope": "usa"
        },
        "legend": {
         "tracegroupgap": 0
        },
        "margin": {
         "t": 60
        },
        "template": {
         "data": {
          "bar": [
           {
            "error_x": {
             "color": "#2a3f5f"
            },
            "error_y": {
             "color": "#2a3f5f"
            },
            "marker": {
             "line": {
              "color": "#E5ECF6",
              "width": 0.5
             },
             "pattern": {
              "fillmode": "overlay",
              "size": 10,
              "solidity": 0.2
             }
            },
            "type": "bar"
           }
          ],
          "barpolar": [
           {
            "marker": {
             "line": {
              "color": "#E5ECF6",
              "width": 0.5
             },
             "pattern": {
              "fillmode": "overlay",
              "size": 10,
              "solidity": 0.2
             }
            },
            "type": "barpolar"
           }
          ],
          "carpet": [
           {
            "aaxis": {
             "endlinecolor": "#2a3f5f",
             "gridcolor": "white",
             "linecolor": "white",
             "minorgridcolor": "white",
             "startlinecolor": "#2a3f5f"
            },
            "baxis": {
             "endlinecolor": "#2a3f5f",
             "gridcolor": "white",
             "linecolor": "white",
             "minorgridcolor": "white",
             "startlinecolor": "#2a3f5f"
            },
            "type": "carpet"
           }
          ],
          "choropleth": [
           {
            "colorbar": {
             "outlinewidth": 0,
             "ticks": ""
            },
            "type": "choropleth"
           }
          ],
          "contour": [
           {
            "colorbar": {
             "outlinewidth": 0,
             "ticks": ""
            },
            "colorscale": [
             [
              0,
              "#0d0887"
             ],
             [
              0.1111111111111111,
              "#46039f"
             ],
             [
              0.2222222222222222,
              "#7201a8"
             ],
             [
              0.3333333333333333,
              "#9c179e"
             ],
             [
              0.4444444444444444,
              "#bd3786"
             ],
             [
              0.5555555555555556,
              "#d8576b"
             ],
             [
              0.6666666666666666,
              "#ed7953"
             ],
             [
              0.7777777777777778,
              "#fb9f3a"
             ],
             [
              0.8888888888888888,
              "#fdca26"
             ],
             [
              1,
              "#f0f921"
             ]
            ],
            "type": "contour"
           }
          ],
          "contourcarpet": [
           {
            "colorbar": {
             "outlinewidth": 0,
             "ticks": ""
            },
            "type": "contourcarpet"
           }
          ],
          "heatmap": [
           {
            "colorbar": {
             "outlinewidth": 0,
             "ticks": ""
            },
            "colorscale": [
             [
              0,
              "#0d0887"
             ],
             [
              0.1111111111111111,
              "#46039f"
             ],
             [
              0.2222222222222222,
              "#7201a8"
             ],
             [
              0.3333333333333333,
              "#9c179e"
             ],
             [
              0.4444444444444444,
              "#bd3786"
             ],
             [
              0.5555555555555556,
              "#d8576b"
             ],
             [
              0.6666666666666666,
              "#ed7953"
             ],
             [
              0.7777777777777778,
              "#fb9f3a"
             ],
             [
              0.8888888888888888,
              "#fdca26"
             ],
             [
              1,
              "#f0f921"
             ]
            ],
            "type": "heatmap"
           }
          ],
          "heatmapgl": [
           {
            "colorbar": {
             "outlinewidth": 0,
             "ticks": ""
            },
            "colorscale": [
             [
              0,
              "#0d0887"
             ],
             [
              0.1111111111111111,
              "#46039f"
             ],
             [
              0.2222222222222222,
              "#7201a8"
             ],
             [
              0.3333333333333333,
              "#9c179e"
             ],
             [
              0.4444444444444444,
              "#bd3786"
             ],
             [
              0.5555555555555556,
              "#d8576b"
             ],
             [
              0.6666666666666666,
              "#ed7953"
             ],
             [
              0.7777777777777778,
              "#fb9f3a"
             ],
             [
              0.8888888888888888,
              "#fdca26"
             ],
             [
              1,
              "#f0f921"
             ]
            ],
            "type": "heatmapgl"
           }
          ],
          "histogram": [
           {
            "marker": {
             "pattern": {
              "fillmode": "overlay",
              "size": 10,
              "solidity": 0.2
             }
            },
            "type": "histogram"
           }
          ],
          "histogram2d": [
           {
            "colorbar": {
             "outlinewidth": 0,
             "ticks": ""
            },
            "colorscale": [
             [
              0,
              "#0d0887"
             ],
             [
              0.1111111111111111,
              "#46039f"
             ],
             [
              0.2222222222222222,
              "#7201a8"
             ],
             [
              0.3333333333333333,
              "#9c179e"
             ],
             [
              0.4444444444444444,
              "#bd3786"
             ],
             [
              0.5555555555555556,
              "#d8576b"
             ],
             [
              0.6666666666666666,
              "#ed7953"
             ],
             [
              0.7777777777777778,
              "#fb9f3a"
             ],
             [
              0.8888888888888888,
              "#fdca26"
             ],
             [
              1,
              "#f0f921"
             ]
            ],
            "type": "histogram2d"
           }
          ],
          "histogram2dcontour": [
           {
            "colorbar": {
             "outlinewidth": 0,
             "ticks": ""
            },
            "colorscale": [
             [
              0,
              "#0d0887"
             ],
             [
              0.1111111111111111,
              "#46039f"
             ],
             [
              0.2222222222222222,
              "#7201a8"
             ],
             [
              0.3333333333333333,
              "#9c179e"
             ],
             [
              0.4444444444444444,
              "#bd3786"
             ],
             [
              0.5555555555555556,
              "#d8576b"
             ],
             [
              0.6666666666666666,
              "#ed7953"
             ],
             [
              0.7777777777777778,
              "#fb9f3a"
             ],
             [
              0.8888888888888888,
              "#fdca26"
             ],
             [
              1,
              "#f0f921"
             ]
            ],
            "type": "histogram2dcontour"
           }
          ],
          "mesh3d": [
           {
            "colorbar": {
             "outlinewidth": 0,
             "ticks": ""
            },
            "type": "mesh3d"
           }
          ],
          "parcoords": [
           {
            "line": {
             "colorbar": {
              "outlinewidth": 0,
              "ticks": ""
             }
            },
            "type": "parcoords"
           }
          ],
          "pie": [
           {
            "automargin": true,
            "type": "pie"
           }
          ],
          "scatter": [
           {
            "fillpattern": {
             "fillmode": "overlay",
             "size": 10,
             "solidity": 0.2
            },
            "type": "scatter"
           }
          ],
          "scatter3d": [
           {
            "line": {
             "colorbar": {
              "outlinewidth": 0,
              "ticks": ""
             }
            },
            "marker": {
             "colorbar": {
              "outlinewidth": 0,
              "ticks": ""
             }
            },
            "type": "scatter3d"
           }
          ],
          "scattercarpet": [
           {
            "marker": {
             "colorbar": {
              "outlinewidth": 0,
              "ticks": ""
             }
            },
            "type": "scattercarpet"
           }
          ],
          "scattergeo": [
           {
            "marker": {
             "colorbar": {
              "outlinewidth": 0,
              "ticks": ""
             }
            },
            "type": "scattergeo"
           }
          ],
          "scattergl": [
           {
            "marker": {
             "colorbar": {
              "outlinewidth": 0,
              "ticks": ""
             }
            },
            "type": "scattergl"
           }
          ],
          "scattermapbox": [
           {
            "marker": {
             "colorbar": {
              "outlinewidth": 0,
              "ticks": ""
             }
            },
            "type": "scattermapbox"
           }
          ],
          "scatterpolar": [
           {
            "marker": {
             "colorbar": {
              "outlinewidth": 0,
              "ticks": ""
             }
            },
            "type": "scatterpolar"
           }
          ],
          "scatterpolargl": [
           {
            "marker": {
             "colorbar": {
              "outlinewidth": 0,
              "ticks": ""
             }
            },
            "type": "scatterpolargl"
           }
          ],
          "scatterternary": [
           {
            "marker": {
             "colorbar": {
              "outlinewidth": 0,
              "ticks": ""
             }
            },
            "type": "scatterternary"
           }
          ],
          "surface": [
           {
            "colorbar": {
             "outlinewidth": 0,
             "ticks": ""
            },
            "colorscale": [
             [
              0,
              "#0d0887"
             ],
             [
              0.1111111111111111,
              "#46039f"
             ],
             [
              0.2222222222222222,
              "#7201a8"
             ],
             [
              0.3333333333333333,
              "#9c179e"
             ],
             [
              0.4444444444444444,
              "#bd3786"
             ],
             [
              0.5555555555555556,
              "#d8576b"
             ],
             [
              0.6666666666666666,
              "#ed7953"
             ],
             [
              0.7777777777777778,
              "#fb9f3a"
             ],
             [
              0.8888888888888888,
              "#fdca26"
             ],
             [
              1,
              "#f0f921"
             ]
            ],
            "type": "surface"
           }
          ],
          "table": [
           {
            "cells": {
             "fill": {
              "color": "#EBF0F8"
             },
             "line": {
              "color": "white"
             }
            },
            "header": {
             "fill": {
              "color": "#C8D4E3"
             },
             "line": {
              "color": "white"
             }
            },
            "type": "table"
           }
          ]
         },
         "layout": {
          "annotationdefaults": {
           "arrowcolor": "#2a3f5f",
           "arrowhead": 0,
           "arrowwidth": 1
          },
          "autotypenumbers": "strict",
          "coloraxis": {
           "colorbar": {
            "outlinewidth": 0,
            "ticks": ""
           }
          },
          "colorscale": {
           "diverging": [
            [
             0,
             "#8e0152"
            ],
            [
             0.1,
             "#c51b7d"
            ],
            [
             0.2,
             "#de77ae"
            ],
            [
             0.3,
             "#f1b6da"
            ],
            [
             0.4,
             "#fde0ef"
            ],
            [
             0.5,
             "#f7f7f7"
            ],
            [
             0.6,
             "#e6f5d0"
            ],
            [
             0.7,
             "#b8e186"
            ],
            [
             0.8,
             "#7fbc41"
            ],
            [
             0.9,
             "#4d9221"
            ],
            [
             1,
             "#276419"
            ]
           ],
           "sequential": [
            [
             0,
             "#0d0887"
            ],
            [
             0.1111111111111111,
             "#46039f"
            ],
            [
             0.2222222222222222,
             "#7201a8"
            ],
            [
             0.3333333333333333,
             "#9c179e"
            ],
            [
             0.4444444444444444,
             "#bd3786"
            ],
            [
             0.5555555555555556,
             "#d8576b"
            ],
            [
             0.6666666666666666,
             "#ed7953"
            ],
            [
             0.7777777777777778,
             "#fb9f3a"
            ],
            [
             0.8888888888888888,
             "#fdca26"
            ],
            [
             1,
             "#f0f921"
            ]
           ],
           "sequentialminus": [
            [
             0,
             "#0d0887"
            ],
            [
             0.1111111111111111,
             "#46039f"
            ],
            [
             0.2222222222222222,
             "#7201a8"
            ],
            [
             0.3333333333333333,
             "#9c179e"
            ],
            [
             0.4444444444444444,
             "#bd3786"
            ],
            [
             0.5555555555555556,
             "#d8576b"
            ],
            [
             0.6666666666666666,
             "#ed7953"
            ],
            [
             0.7777777777777778,
             "#fb9f3a"
            ],
            [
             0.8888888888888888,
             "#fdca26"
            ],
            [
             1,
             "#f0f921"
            ]
           ]
          },
          "colorway": [
           "#636efa",
           "#EF553B",
           "#00cc96",
           "#ab63fa",
           "#FFA15A",
           "#19d3f3",
           "#FF6692",
           "#B6E880",
           "#FF97FF",
           "#FECB52"
          ],
          "font": {
           "color": "#2a3f5f"
          },
          "geo": {
           "bgcolor": "white",
           "lakecolor": "white",
           "landcolor": "#E5ECF6",
           "showlakes": true,
           "showland": true,
           "subunitcolor": "white"
          },
          "hoverlabel": {
           "align": "left"
          },
          "hovermode": "closest",
          "mapbox": {
           "style": "light"
          },
          "paper_bgcolor": "white",
          "plot_bgcolor": "#E5ECF6",
          "polar": {
           "angularaxis": {
            "gridcolor": "white",
            "linecolor": "white",
            "ticks": ""
           },
           "bgcolor": "#E5ECF6",
           "radialaxis": {
            "gridcolor": "white",
            "linecolor": "white",
            "ticks": ""
           }
          },
          "scene": {
           "xaxis": {
            "backgroundcolor": "#E5ECF6",
            "gridcolor": "white",
            "gridwidth": 2,
            "linecolor": "white",
            "showbackground": true,
            "ticks": "",
            "zerolinecolor": "white"
           },
           "yaxis": {
            "backgroundcolor": "#E5ECF6",
            "gridcolor": "white",
            "gridwidth": 2,
            "linecolor": "white",
            "showbackground": true,
            "ticks": "",
            "zerolinecolor": "white"
           },
           "zaxis": {
            "backgroundcolor": "#E5ECF6",
            "gridcolor": "white",
            "gridwidth": 2,
            "linecolor": "white",
            "showbackground": true,
            "ticks": "",
            "zerolinecolor": "white"
           }
          },
          "shapedefaults": {
           "line": {
            "color": "#2a3f5f"
           }
          },
          "ternary": {
           "aaxis": {
            "gridcolor": "white",
            "linecolor": "white",
            "ticks": ""
           },
           "baxis": {
            "gridcolor": "white",
            "linecolor": "white",
            "ticks": ""
           },
           "bgcolor": "#E5ECF6",
           "caxis": {
            "gridcolor": "white",
            "linecolor": "white",
            "ticks": ""
           }
          },
          "title": {
           "x": 0.05
          },
          "xaxis": {
           "automargin": true,
           "gridcolor": "white",
           "linecolor": "white",
           "ticks": "",
           "title": {
            "standoff": 15
           },
           "zerolinecolor": "white",
           "zerolinewidth": 2
          },
          "yaxis": {
           "automargin": true,
           "gridcolor": "white",
           "linecolor": "white",
           "ticks": "",
           "title": {
            "standoff": 15
           },
           "zerolinecolor": "white",
           "zerolinewidth": 2
          }
         }
        },
        "title": {
         "text": "Average ACT Score by State"
        }
       }
      }
     },
     "metadata": {},
     "output_type": "display_data"
    }
   ],
   "source": [
    "# Average ACT Score by State\n",
    "state_avg = df.groupby('state')['act_average'].mean().reset_index()\n",
    "fig = px.choropleth(state_avg, \n",
    "                    locations='state', \n",
    "                    locationmode=\"USA-states\", \n",
    "                    color='act_average', \n",
    "                    scope=\"usa\",\n",
    "                    color_continuous_scale=\"Viridis\",\n",
    "                    labels={'act_average':'ACT Average'})\n",
    "fig.update_layout(title_text='Average ACT Score by State')\n",
    "fig.show()\n",
    "\n",
    "fig.write_html(\"act_choropleth.html\")\n"
   ]
  },
  {
   "cell_type": "markdown",
   "id": "66073525",
   "metadata": {},
   "source": [
    "Average ACT Score by State\n",
    "\n",
    "The map shows state-level average ACT scores using a Viridis color scale: darker colors indicate lower scores (~18), and lighter colors indicate higher scores (~21+).\n",
    "\n",
    "Key Observations:\n",
    "\n",
    "Lowest scores: Concentrated in the Southeastern states (e.g., Louisiana, Mississippi, Alabama).\n",
    "\n",
    "Highest scores: Seen in parts of the Midwest (e.g., Michigan, Wisconsin), the Western U.S. (e.g., Washington), and some Northeastern states (e.g., Massachusetts, Connecticut).\n",
    "\n",
    "Mid-range scores: Spread across the Midwest and Southwest.\n",
    "\n",
    "Missing data: Some states appear uncolored, likely due to reporting gaps or preference for SAT over ACT."
   ]
  },
  {
   "cell_type": "markdown",
   "id": "5a82d669",
   "metadata": {},
   "source": [
    "## Modeling\n",
    "\n",
    "We use OLS regression to quantify relationships between ACT scores and socioeconomic predictors.\n",
    "\n"
   ]
  },
  {
   "cell_type": "code",
   "execution_count": 26,
   "id": "9940d63b",
   "metadata": {},
   "outputs": [
    {
     "name": "stdout",
     "output_type": "stream",
     "text": [
      "                            OLS Regression Results                            \n",
      "==============================================================================\n",
      "Dep. Variable:            act_average   R-squared:                       0.621\n",
      "Model:                            OLS   Adj. R-squared:                  0.621\n",
      "Method:                 Least Squares   F-statistic:                     2605.\n",
      "Date:                Mon, 20 Oct 2025   Prob (F-statistic):               0.00\n",
      "Time:                        23:21:12   Log-Likelihood:                -14892.\n",
      "No. Observations:                7958   AIC:                         2.980e+04\n",
      "Df Residuals:                    7952   BIC:                         2.984e+04\n",
      "Df Model:                           5                                         \n",
      "Covariance Type:            nonrobust                                         \n",
      "=====================================================================================\n",
      "                        coef    std err          t      P>|t|      [0.025      0.975]\n",
      "-------------------------------------------------------------------------------------\n",
      "const                22.6664      0.133    170.705      0.000      22.406      22.927\n",
      "median_income      4.531e-08   1.19e-06      0.038      0.970    -2.3e-06    2.39e-06\n",
      "percent_college       1.6449      0.153     10.736      0.000       1.345       1.945\n",
      "percent_married      -0.0145      0.128     -0.113      0.910      -0.265       0.236\n",
      "rate_unemployment    -2.5880      0.386     -6.700      0.000      -3.345      -1.831\n",
      "percent_lunch        -7.4958      0.092    -81.244      0.000      -7.677      -7.315\n",
      "==============================================================================\n",
      "Omnibus:                      834.356   Durbin-Watson:                   1.519\n",
      "Prob(Omnibus):                  0.000   Jarque-Bera (JB):             2995.944\n",
      "Skew:                           0.502   Prob(JB):                         0.00\n",
      "Kurtosis:                       5.833   Cond. No.                     1.29e+06\n",
      "==============================================================================\n",
      "\n",
      "Notes:\n",
      "[1] Standard Errors assume that the covariance matrix of the errors is correctly specified.\n",
      "[2] The condition number is large, 1.29e+06. This might indicate that there are\n",
      "strong multicollinearity or other numerical problems.\n"
     ]
    }
   ],
   "source": [
    "# Select predictors and target\n",
    "x = df[['median_income', 'percent_college', 'percent_married','rate_unemployment', 'percent_lunch']]\n",
    "y = df['act_average']\n",
    "\n",
    "# Add constant\n",
    "x_const = sm.add_constant(x)\n",
    "\n",
    "# Fit model\n",
    "model = sm.OLS(y, x_const).fit()\n",
    "print(model.summary())\n"
   ]
  },
  {
   "cell_type": "markdown",
   "id": "055daba3",
   "metadata": {},
   "source": [
    "+ R-squared ~62% → the model explains 62% of ACT score variance.\n",
    "\n",
    "+ Significant predictors:\n",
    "\n",
    "   + Percent of adults with college degrees (+)\n",
    "\n",
    "   + Rate of unemployment (-)\n",
    "\n",
    "   + Percent of students on free/reduced lunch (-)"
   ]
  },
  {
   "cell_type": "markdown",
   "id": "13bd828d",
   "metadata": {},
   "source": [
    "### Scaled Predictors\n",
    " \n",
    " Scaling allows us to compare relative strength of predictors."
   ]
  },
  {
   "cell_type": "code",
   "execution_count": 27,
   "id": "0d523ea6",
   "metadata": {},
   "outputs": [
    {
     "name": "stdout",
     "output_type": "stream",
     "text": [
      "                            OLS Regression Results                            \n",
      "==============================================================================\n",
      "Dep. Variable:            act_average   R-squared:                       0.621\n",
      "Model:                            OLS   Adj. R-squared:                  0.621\n",
      "Method:                 Least Squares   F-statistic:                     2605.\n",
      "Date:                Mon, 20 Oct 2025   Prob (F-statistic):               0.00\n",
      "Time:                        23:21:12   Log-Likelihood:                -14892.\n",
      "No. Observations:                7958   AIC:                         2.980e+04\n",
      "Df Residuals:                    7952   BIC:                         2.984e+04\n",
      "Df Model:                           5                                         \n",
      "Covariance Type:            nonrobust                                         \n",
      "=====================================================================================\n",
      "                        coef    std err          t      P>|t|      [0.025      0.975]\n",
      "-------------------------------------------------------------------------------------\n",
      "const                20.1893      0.018   1145.215      0.000      20.155      20.224\n",
      "median_income         0.0011      0.029      0.038      0.970      -0.056       0.058\n",
      "percent_college       0.2721      0.025     10.736      0.000       0.222       0.322\n",
      "percent_married      -0.0028      0.025     -0.113      0.910      -0.052       0.046\n",
      "rate_unemployment    -0.1513      0.023     -6.700      0.000      -0.196      -0.107\n",
      "percent_lunch        -1.7966      0.022    -81.244      0.000      -1.840      -1.753\n",
      "==============================================================================\n",
      "Omnibus:                      834.356   Durbin-Watson:                   1.519\n",
      "Prob(Omnibus):                  0.000   Jarque-Bera (JB):             2995.944\n",
      "Skew:                           0.502   Prob(JB):                         0.00\n",
      "Kurtosis:                       5.833   Cond. No.                         3.57\n",
      "==============================================================================\n",
      "\n",
      "Notes:\n",
      "[1] Standard Errors assume that the covariance matrix of the errors is correctly specified.\n"
     ]
    }
   ],
   "source": [
    "\n",
    "# --- Select predictor variables ---\n",
    "x = df[['median_income', 'percent_college', 'percent_married', 'rate_unemployment', 'percent_lunch']]\n",
    "y = df['act_average']\n",
    "\n",
    "# --- Scale the predictors ---\n",
    "scaler = StandardScaler()\n",
    "x_scaled = scaler.fit_transform(x)\n",
    "\n",
    "# Convert back to DataFrame to keep column names\n",
    "x_scaled = pd.DataFrame(x_scaled, columns=x.columns)\n",
    "\n",
    "# --- Add constant for statsmodels ---\n",
    "x_scaled = sm.add_constant(x_scaled)\n",
    "\n",
    "# --- Fit OLS regression ---\n",
    "model = sm.OLS(y, x_scaled).fit()\n",
    "\n",
    "# --- Summary ---\n",
    "print(model.summary())\n"
   ]
  },
  {
   "cell_type": "markdown",
   "id": "0008e5da",
   "metadata": {},
   "source": [
    "+ Student poverty (percent_lunch) has the largest standardized coefficient → strongest impact.\n",
    "\n",
    "+ Percent of adults with college degrees (+) and unemployment (-) are also significant.\n",
    "\n",
    "+ Median income and percent of children in married-couple families are not significant after controlling for other factors."
   ]
  },
  {
   "cell_type": "markdown",
   "id": "27ec1457",
   "metadata": {},
   "source": [
    "### Summary and Final Conclusions\n",
    "\n",
    "+ School performance, measured by ACT scores, is influenced by socioeconomic factors.\n",
    "\n",
    "+ Positive predictor: Percent of adults with college degrees.\n",
    "\n",
    "+ Negative predictors: Student poverty and local unemployment.\n",
    "\n",
    "+ Median household income and percent of children in married-couple families are not significant.\n",
    "\n",
    "+ Overall, the model explains ~62% of the variation in ACT scores.\n",
    "\n",
    "+ Scaling shows student poverty has the largest relative impact on performance.\n",
    "\n",
    "### Conclusion:\n",
    "Community education, student poverty, and unemployment are the strongest predictors of school performance. Addressing economic disadvantage could improve ACT outcomes across schools."
   ]
  }
 ],
 "metadata": {
  "kernelspec": {
   "display_name": "base",
   "language": "python",
   "name": "python3"
  },
  "language_info": {
   "codemirror_mode": {
    "name": "ipython",
    "version": 3
   },
   "file_extension": ".py",
   "mimetype": "text/x-python",
   "name": "python",
   "nbconvert_exporter": "python",
   "pygments_lexer": "ipython3",
   "version": "3.13.5"
  }
 },
 "nbformat": 4,
 "nbformat_minor": 5
}
